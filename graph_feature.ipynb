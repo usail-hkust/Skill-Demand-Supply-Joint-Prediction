{
 "cells": [
  {
   "cell_type": "code",
   "execution_count": 4,
   "metadata": {},
   "outputs": [
    {
     "name": "stdout",
     "output_type": "stream",
     "text": [
      "The autoreload extension is already loaded. To reload it, use:\n",
      "  %reload_ext autoreload\n"
     ]
    }
   ],
   "source": [
    "import networkx as nx\n",
    "%load_ext autoreload\n",
    "%autoreload 2\n",
    "import argparse\n",
    "import collections\n",
    "import torch\n",
    "import torch_geometric\n",
    "import numpy as np\n",
    "import data_loader.data_loaders as module_data\n",
    "from torch_geometric.utils import to_networkx, from_networkx\n",
    "import model.loss as module_loss\n",
    "import model.metric as module_metric\n",
    "import model.model as module_arch\n",
    "from parse_config import ConfigParser\n",
    "# del Trainer\n",
    "from trainer import Trainer\n",
    "from utils import prepare_device\n",
    "from model import model\n",
    "import matplotlib.pyplot as plt"
   ]
  },
  {
   "cell_type": "code",
   "execution_count": null,
   "metadata": {},
   "outputs": [],
   "source": [
    "graph_dir = \"./data/graph_list_hier/myGraph_0.gpickle\"\n",
    "graph = nx.read_gpickle(graph_dir)\n",
    "demand_graph = from_networkx(graph, group_edge_attrs=[\"weight\"])\n",
    "print([e for e in graph.edges(data=True) if e[2][\"weight\"]>1])\n",
    "# graph = nx.from_networkx(graph, group_edge_attrs=['weight'])\n",
    "\n"
   ]
  },
  {
   "cell_type": "code",
   "execution_count": null,
   "metadata": {},
   "outputs": [],
   "source": [
    "degree_cent = nx.degree_centrality(graph)\n",
    "eigen_cent = nx.eigenvector_centrality(graph)\n",
    "page_rank = nx.pagerank_numpy(graph)\n",
    "# print(\"centrality\", nx.average_clustering(graph))\n"
   ]
  },
  {
   "cell_type": "code",
   "execution_count": 6,
   "metadata": {},
   "outputs": [
    {
     "data": {
      "image/png": "[encoded data removed]",
      "text/plain": [
       "<Figure size 640x480 with 1 Axes>"
      ]
     },
     "metadata": {},
     "output_type": "display_data"
    }
   ],
   "source": [
    "plt.hist(nx.degree_centrality(graph).values(),bins=1000)\n",
    "plt.show()\n",
    "plt.hist(nx.betweenness_centrality(graph).values(),bins=1000)\n",
    "plt.show()\n",
    "plt.hist(nx.pagerank_numpy(graph).values(),bins=1000)\n",
    "plt.show()"
   ]
  }
 ],
 "metadata": {
  "kernelspec": {
   "display_name": "skillkg",
   "language": "python",
   "name": "python3"
  },
  "language_info": {
   "codemirror_mode": {
    "name": "ipython",
    "version": 3
   },
   "file_extension": ".py",
   "mimetype": "text/x-python",
   "name": "python",
   "nbconvert_exporter": "python",
   "pygments_lexer": "ipython3",
   "version": "3.7.13"
  },
  "orig_nbformat": 4,
  "vscode": {
   "interpreter": {
    "hash": "5c988a9fc3b4fabe657ab2d4bac009b9963d51ebfc5667a74503e740c59e45bb"
   }
  }
 },
 "nbformat": 4,
 "nbformat_minor": 2
}
